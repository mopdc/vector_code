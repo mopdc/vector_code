{
 "cells": [
  {
   "cell_type": "markdown",
   "metadata": {},
   "source": [
    "### Referências:\n",
    "\n",
    "https://medium.com/google-cloud/revolutionizing-code-reviews-using-generative-ai-a-practical-approach-using-google-cloud-vertex-ai-479e820c8e21\n",
    "\n",
    "https://medium.com/@baristaGeek/how-to-properly-use-github-for-code-review-10d8caa38a39\n",
    "\n",
    "https://mfadhel.com/github-code-reviews/"
   ]
  },
  {
   "cell_type": "code",
   "execution_count": 1,
   "metadata": {},
   "outputs": [],
   "source": [
    "#pip install langchain openai gitpython faiss-cpu tqdm langchain-community transformers sentence-transformers huggingface_hub"
   ]
  },
  {
   "cell_type": "code",
   "execution_count": 2,
   "metadata": {},
   "outputs": [],
   "source": [
    "#### Importando as libs:\n",
    "\n",
    "import os\n",
    "import shutil\n",
    "import stat\n",
    "from git import Repo\n",
    "from langchain.embeddings import HuggingFaceEmbeddings\n",
    "from langchain.vectorstores import FAISS\n",
    "from langchain.text_splitter import CharacterTextSplitter\n",
    "from langchain.llms import HuggingFacePipeline\n",
    "from langchain.chains import LLMChain\n",
    "from transformers import pipeline"
   ]
  },
  {
   "cell_type": "code",
   "execution_count": null,
   "metadata": {},
   "outputs": [],
   "source": [
    "# 1) Clonando o repo:\n",
    "\n",
    "def clonar_repositorio(url_repositorio, caminho_local):\n",
    "    if os.path.exists(caminho_local):\n",
    "        def ao_remover_erro(func, caminho, exc_info):\n",
    "            os.chmod(caminho, stat.S_IWRITE)\n",
    "            func(caminho)\n",
    "            shutil.rmtree(caminho_local, onerror=ao_remover_erro)\n",
    "    Repo.clone_from(url_repositorio, caminho_local)\n",
    "    print(f\"Repositório clonado para {caminho_local}\")"
   ]
  },
  {
   "cell_type": "code",
   "execution_count": null,
   "metadata": {},
   "outputs": [],
   "source": [
    "# 2) Ler e processar os arquivos do repositório:\n",
    "def preprocessar_repositorio(caminho_repositorio):\n",
    "    conteudos_arquivos = []\n",
    "    for raiz, _, arquivos in os.walk(caminho_repositorio):\n",
    "        for arquivo in arquivos:\n",
    "            if arquivo.endswith((\".py\", \".js\", \".ts\", \".java\", \".c\", \".cpp\")):\n",
    "                with open(os.path.join(raiz, arquivo), \"r\", encoding=\"utf-8\", errors=\"ignore\") as f:\n",
    "                    conteudos_arquivos.append((arquivo, f.read()))\n",
    "    return conteudos_arquivos"
   ]
  },
  {
   "cell_type": "code",
   "execution_count": null,
   "metadata": {},
   "outputs": [],
   "source": [
    "# 3) Vetorizando o código\n",
    "def vetorizar_codigo(conteudos_arquivos):\n",
    "    embeddings = HuggingFaceEmbeddings(model_name=\"sentence-transformers/all-MiniLM-L6-v2\")\n",
    "    divisor_texto = CharacterTextSplitter(chunk_size=1000, chunk_overlap=100)\n",
    "\n",
    "    textos = []\n",
    "    metadados = []\n",
    "\n",
    "    for nome_arquivo, conteudo in conteudos_arquivos:\n",
    "        fragmentos = divisor_texto.split_text(conteudo)\n",
    "        textos.extend(fragmentos)\n",
    "        metadados.extend([{\"source\": nome_arquivo}] * len(fragmentos))\n",
    "\n",
    "    loja_vetores = FAISS.from_texts(textos, embeddings, metadatas=metadados)\n",
    "    return loja_vetores"
   ]
  },
  {
   "cell_type": "code",
   "execution_count": null,
   "metadata": {},
   "outputs": [
    {
     "ename": "",
     "evalue": "",
     "output_type": "error",
     "traceback": [
      "\u001b[1;31mThe Kernel crashed while executing code in the current cell or a previous cell. \n",
      "\u001b[1;31mPlease review the code in the cell(s) to identify a possible cause of the failure. \n",
      "\u001b[1;31mClick <a href='https://aka.ms/vscodeJupyterKernelCrash'>here</a> for more info. \n",
      "\u001b[1;31mView Jupyter <a href='command:jupyter.viewOutput'>log</a> for further details."
     ]
    }
   ],
   "source": [
    "# 4) Verificando o código\n",
    "\n",
    "def revisar_codigo(loja_vetores, pergunta):\n",
    "        \n",
    "    pipeline_revisao = pipeline(\"text-generation\", model=\"Qwen/Qwen2.5-Coder-7B-Instruct\")\n",
    "    llm = HuggingFacePipeline(pipeline=pipeline_revisao)\n",
    "    cadeia = LLMChain(llm=llm)\n",
    "\n",
    "    resultados = loja_vetores.similarity_search(pergunta, k=5)\n",
    "\n",
    "    contexto_revisao = \"\".join([f\"Arquivo: {res.metadata['source']}\\n{res.page_content}\\n\\n\" for res in resultados])\n",
    "\n",
    "    prompt = (\n",
    "        f\"You are a code review assistant. Analyze the following code snippets and provide feedback:\\n\\n\"\n",
    "        f\"{contexto_revisao}\\n\\n\"\n",
    "        f\"Feedback:\"\n",
    "    )\n",
    "\n",
    "    resposta = cadeia.run(prompt)\n",
    "    return resposta"
   ]
  },
  {
   "cell_type": "code",
   "execution_count": null,
   "metadata": {},
   "outputs": [
    {
     "name": "stdout",
     "output_type": "stream",
     "text": [
      "Cloning repository...\n",
      "Repository cloned to ./cloned_repo\n",
      "Processing repository...\n",
      "Vectorizing code...\n"
     ]
    },
    {
     "name": "stderr",
     "output_type": "stream",
     "text": [
      "C:\\Users\\TRAVELER\\AppData\\Local\\Temp\\ipykernel_11448\\2737378166.py:25: LangChainDeprecationWarning: The class `HuggingFaceEmbeddings` was deprecated in LangChain 0.2.2 and will be removed in 1.0. An updated version of the class exists in the :class:`~langchain-huggingface package and should be used instead. To use it run `pip install -U :class:`~langchain-huggingface` and import as `from :class:`~langchain_huggingface import HuggingFaceEmbeddings``.\n",
      "  embeddings = HuggingFaceEmbeddings(model_name=\"sentence-transformers/all-MiniLM-L6-v2\")\n",
      "Created a chunk of size 1181, which is longer than the specified 1000\n",
      "Created a chunk of size 1104, which is longer than the specified 1000\n",
      "Created a chunk of size 3324, which is longer than the specified 1000\n"
     ]
    },
    {
     "name": "stdout",
     "output_type": "stream",
     "text": [
      "Reviewing code...\n"
     ]
    }
   ],
   "source": [
    "def main():\n",
    "    url_repositorio = \"https://github.com/mopdc/gabpessoa.git\"\n",
    "    caminho_local = \"./repositorio_clonado\"\n",
    "\n",
    "    print(\"Clonando repositório...\")\n",
    "    clonar_repositorio(url_repositorio, caminho_local)\n",
    "\n",
    "    print(\"Processando repositório...\")\n",
    "    conteudos_arquivos = preprocessar_repositorio(caminho_local)\n",
    "\n",
    "    print(\"Vetorizando código...\")\n",
    "    loja_vetores = vetorizar_codigo(conteudos_arquivos)\n",
    "\n",
    "    print(\"Revisando código...\")\n",
    "    feedback = revisar_codigo(loja_vetores, \"Identifique possíveis melhorias e problemas neste código.\")\n",
    "\n",
    "    print(\"\\nFeedback da Revisão de Código:\\n\")\n",
    "    print(feedback)\n",
    "\n",
    "if __name__ == \"__main__\":\n",
    "    main()"
   ]
  },
  {
   "cell_type": "code",
   "execution_count": null,
   "metadata": {},
   "outputs": [],
   "source": []
  },
  {
   "cell_type": "code",
   "execution_count": null,
   "metadata": {},
   "outputs": [],
   "source": []
  }
 ],
 "metadata": {
  "kernelspec": {
   "display_name": "base",
   "language": "python",
   "name": "python3"
  },
  "language_info": {
   "codemirror_mode": {
    "name": "ipython",
    "version": 3
   },
   "file_extension": ".py",
   "mimetype": "text/x-python",
   "name": "python",
   "nbconvert_exporter": "python",
   "pygments_lexer": "ipython3",
   "version": "3.11.4"
  }
 },
 "nbformat": 4,
 "nbformat_minor": 2
}
